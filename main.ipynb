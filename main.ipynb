{
 "cells": [
  {
   "cell_type": "markdown",
   "id": "7d652c20",
   "metadata": {},
   "source": [
    "This Project uses the diabetes_130_us_hospitals_combined dataset from ucimlrepo\n",
    "We are maintaining the virutal environement with pixi\n",
    "\n",
    "This project is being used for analyis in Multi-layer Perceptron Capstone Project at Humber Polytechnic - Clinical Bioinformatics Project"
   ]
  },
  {
   "cell_type": "code",
   "execution_count": 1,
   "id": "98e7b99e",
   "metadata": {},
   "outputs": [],
   "source": [
    "#import libraries\n",
    "import pandas as pd\n",
    "import numpy as np\n",
    "import matplotlib.pyplot as plt\n",
    "import seaborn as sns\n",
    "from sklearn.model_selection import train_test_split\n",
    "from sklearn.preprocessing import StandardScaler\n",
    "from sklearn.neural_network import MLPClassifier\n",
    "from sklearn.metrics import classification_report, confusion_matrix\n",
    "\n",
    "\n"
   ]
  },
  {
   "cell_type": "code",
   "execution_count": 5,
   "id": "7e6a9b1e",
   "metadata": {},
   "outputs": [
    {
     "name": "stderr",
     "output_type": "stream",
     "text": [
      "<>:3: SyntaxWarning: invalid escape sequence '\\d'\n",
      "<>:3: SyntaxWarning: invalid escape sequence '\\d'\n",
      "C:\\Users\\chhav\\AppData\\Local\\Temp\\ipykernel_28416\\1277523886.py:3: SyntaxWarning: invalid escape sequence '\\d'\n",
      "  diabetes_data = pd.read_csv(\"data\\diabetes_health_indicators.csv\")\n"
     ]
    }
   ],
   "source": [
    "#load the dataset\n",
    "\n",
    "diabetes_data = pd.read_csv(\"data\\diabetes_health_indicators.csv\")"
   ]
  },
  {
   "cell_type": "code",
   "execution_count": 7,
   "id": "8ecae80b",
   "metadata": {},
   "outputs": [
    {
     "name": "stdout",
     "output_type": "stream",
     "text": [
      "   HighBP  HighChol  CholCheck  BMI  Smoker  Stroke  HeartDiseaseorAttack  \\\n",
      "0       1         1          1   40       1       0                     0   \n",
      "1       0         0          0   25       1       0                     0   \n",
      "2       1         1          1   28       0       0                     0   \n",
      "3       1         0          1   27       0       0                     0   \n",
      "4       1         1          1   24       0       0                     0   \n",
      "\n",
      "   PhysActivity  Fruits  Veggies  ...  NoDocbcCost  GenHlth  MentHlth  \\\n",
      "0             0       0        1  ...            0        5        18   \n",
      "1             1       0        0  ...            1        3         0   \n",
      "2             0       1        0  ...            1        5        30   \n",
      "3             1       1        1  ...            0        2         0   \n",
      "4             1       1        1  ...            0        2         3   \n",
      "\n",
      "   PhysHlth  DiffWalk  Sex  Age  Education  Income  Diabetes_binary  \n",
      "0        15         1    0    9          4       3                0  \n",
      "1         0         0    0    7          6       1                0  \n",
      "2        30         1    0    9          4       8                0  \n",
      "3         0         0    0   11          3       6                0  \n",
      "4         0         0    0   11          5       4                0  \n",
      "\n",
      "[5 rows x 22 columns]\n",
      "<class 'pandas.core.frame.DataFrame'>\n",
      "RangeIndex: 253680 entries, 0 to 253679\n",
      "Data columns (total 22 columns):\n",
      " #   Column                Non-Null Count   Dtype\n",
      "---  ------                --------------   -----\n",
      " 0   HighBP                253680 non-null  int64\n",
      " 1   HighChol              253680 non-null  int64\n",
      " 2   CholCheck             253680 non-null  int64\n",
      " 3   BMI                   253680 non-null  int64\n",
      " 4   Smoker                253680 non-null  int64\n",
      " 5   Stroke                253680 non-null  int64\n",
      " 6   HeartDiseaseorAttack  253680 non-null  int64\n",
      " 7   PhysActivity          253680 non-null  int64\n",
      " 8   Fruits                253680 non-null  int64\n",
      " 9   Veggies               253680 non-null  int64\n",
      " 10  HvyAlcoholConsump     253680 non-null  int64\n",
      " 11  AnyHealthcare         253680 non-null  int64\n",
      " 12  NoDocbcCost           253680 non-null  int64\n",
      " 13  GenHlth               253680 non-null  int64\n",
      " 14  MentHlth              253680 non-null  int64\n",
      " 15  PhysHlth              253680 non-null  int64\n",
      " 16  DiffWalk              253680 non-null  int64\n",
      " 17  Sex                   253680 non-null  int64\n",
      " 18  Age                   253680 non-null  int64\n",
      " 19  Education             253680 non-null  int64\n",
      " 20  Income                253680 non-null  int64\n",
      " 21  Diabetes_binary       253680 non-null  int64\n",
      "dtypes: int64(22)\n",
      "memory usage: 42.6 MB\n",
      "None\n",
      "HighBP                  0\n",
      "HighChol                0\n",
      "CholCheck               0\n",
      "BMI                     0\n",
      "Smoker                  0\n",
      "Stroke                  0\n",
      "HeartDiseaseorAttack    0\n",
      "PhysActivity            0\n",
      "Fruits                  0\n",
      "Veggies                 0\n",
      "HvyAlcoholConsump       0\n",
      "AnyHealthcare           0\n",
      "NoDocbcCost             0\n",
      "GenHlth                 0\n",
      "MentHlth                0\n",
      "PhysHlth                0\n",
      "DiffWalk                0\n",
      "Sex                     0\n",
      "Age                     0\n",
      "Education               0\n",
      "Income                  0\n",
      "Diabetes_binary         0\n",
      "dtype: int64\n"
     ]
    }
   ],
   "source": [
    "# Explore the dataset\n",
    "\n",
    "print(diabetes_data.head())\n",
    "print(diabetes_data.info())\n",
    "print(diabetes_data.isnull().sum())"
   ]
  }
 ],
 "metadata": {
  "kernelspec": {
   "display_name": "default",
   "language": "python",
   "name": "python3"
  },
  "language_info": {
   "codemirror_mode": {
    "name": "ipython",
    "version": 3
   },
   "file_extension": ".py",
   "mimetype": "text/x-python",
   "name": "python",
   "nbconvert_exporter": "python",
   "pygments_lexer": "ipython3",
   "version": "3.13.5"
  }
 },
 "nbformat": 4,
 "nbformat_minor": 5
}
