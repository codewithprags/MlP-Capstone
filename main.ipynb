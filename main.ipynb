{
 "cells": [
  {
   "cell_type": "markdown",
   "id": "7d652c20",
   "metadata": {},
   "source": [
    "This Project uses the diabetes_130_us_hospitals_combined dataset from ucimlrepo\n",
    "We are maintaining the virutal environement with pixi\n",
    "\n",
    "This project is being used for analyis in Multi-layer Perceptron Capstone Project at Humber Polytechnic - Clinical Bioinformatics Project"
   ]
  },
  {
   "cell_type": "code",
   "execution_count": 1,
   "id": "98e7b99e",
   "metadata": {},
   "outputs": [],
   "source": [
    "#import libraries\n",
    "import pandas as pd\n",
    "import numpy as np\n",
    "import matplotlib.pyplot as plt\n",
    "import seaborn as sns\n",
    "from sklearn.model_selection import train_test_split\n",
    "from sklearn.preprocessing import StandardScaler\n",
    "from sklearn.neural_network import MLPClassifier\n",
    "from sklearn.metrics import classification_report, confusion_matrix\n",
    "\n",
    "\n"
   ]
  },
  {
   "cell_type": "code",
   "execution_count": 2,
   "id": "7e6a9b1e",
   "metadata": {},
   "outputs": [
    {
     "name": "stderr",
     "output_type": "stream",
     "text": [
      "C:\\Users\\chhav\\AppData\\Local\\Temp\\ipykernel_28416\\2790603039.py:3: DtypeWarning: Columns (8) have mixed types. Specify dtype option on import or set low_memory=False.\n",
      "  diabeteds_data = pd.read_csv('diabetes_130_us_hospitals_combined.csv')\n"
     ]
    }
   ],
   "source": [
    "#load the dataset\n",
    "\n",
    "diabeteds_data = pd.read_csv('diabetes_130_us_hospitals_combined.csv')  "
   ]
  },
  {
   "cell_type": "code",
   "execution_count": null,
   "id": "8ecae80b",
   "metadata": {},
   "outputs": [],
   "source": [
    "# Explore the dataset"
   ]
  }
 ],
 "metadata": {
  "kernelspec": {
   "display_name": "default",
   "language": "python",
   "name": "python3"
  },
  "language_info": {
   "codemirror_mode": {
    "name": "ipython",
    "version": 3
   },
   "file_extension": ".py",
   "mimetype": "text/x-python",
   "name": "python",
   "nbconvert_exporter": "python",
   "pygments_lexer": "ipython3",
   "version": "3.13.5"
  }
 },
 "nbformat": 4,
 "nbformat_minor": 5
}
